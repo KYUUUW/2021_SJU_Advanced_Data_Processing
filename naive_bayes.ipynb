{
 "cells": [
  {
   "cell_type": "markdown",
   "metadata": {
    "collapsed": true,
    "pycharm": {
     "name": "#%% md\n"
    }
   },
   "source": [
    "# Implementation of Naive Bayes classifier\n",
    "\n",
    "* Dataset: PlayTennis"
   ]
  },
  {
   "cell_type": "code",
   "execution_count": 1,
   "outputs": [
    {
     "name": "stdout",
     "output_type": "stream",
     "text": [
      "Requirement already satisfied: scikit-learn in /usr/local/anaconda3/envs/Tensorflow/lib/python3.7/site-packages (0.24.2)\r\n",
      "Requirement already satisfied: joblib>=0.11 in /usr/local/anaconda3/envs/Tensorflow/lib/python3.7/site-packages (from scikit-learn) (1.0.1)\r\n",
      "Requirement already satisfied: scipy>=0.19.1 in /usr/local/anaconda3/envs/Tensorflow/lib/python3.7/site-packages (from scikit-learn) (1.6.2)\r\n",
      "Requirement already satisfied: numpy>=1.13.3 in /usr/local/anaconda3/envs/Tensorflow/lib/python3.7/site-packages (from scikit-learn) (1.20.1)\r\n",
      "Requirement already satisfied: threadpoolctl>=2.0.0 in /usr/local/anaconda3/envs/Tensorflow/lib/python3.7/site-packages (from scikit-learn) (2.1.0)\r\n"
     ]
    }
   ],
   "source": [
    "!pip install -U scikit-learn"
   ],
   "metadata": {
    "collapsed": false,
    "pycharm": {
     "name": "#%%\n"
    }
   }
  },
  {
   "cell_type": "code",
   "execution_count": 4,
   "outputs": [
    {
     "ename": "ModuleNotFoundError",
     "evalue": "No module named 'sklearn'",
     "output_type": "error",
     "traceback": [
      "\u001B[0;31m---------------------------------------------------------------------------\u001B[0m",
      "\u001B[0;31mModuleNotFoundError\u001B[0m                       Traceback (most recent call last)",
      "\u001B[0;32m<ipython-input-4-b7c74cbf5af0>\u001B[0m in \u001B[0;36m<module>\u001B[0;34m\u001B[0m\n\u001B[0;32m----> 1\u001B[0;31m \u001B[0;32mimport\u001B[0m \u001B[0msklearn\u001B[0m\u001B[0;34m\u001B[0m\u001B[0;34m\u001B[0m\u001B[0m\n\u001B[0m",
      "\u001B[0;31mModuleNotFoundError\u001B[0m: No module named 'sklearn'"
     ]
    }
   ],
   "source": [
    "import sklearn"
   ],
   "metadata": {
    "collapsed": false,
    "pycharm": {
     "name": "#%%\n"
    }
   }
  },
  {
   "cell_type": "code",
   "execution_count": null,
   "outputs": [],
   "source": [],
   "metadata": {
    "collapsed": false,
    "pycharm": {
     "name": "#%%\n"
    }
   }
  }
 ],
 "metadata": {
  "kernelspec": {
   "name": "pycharm-6de4b67c",
   "language": "python",
   "display_name": "PyCharm (2021_SJU_Advanced_Data_Processing)"
  },
  "language_info": {
   "codemirror_mode": {
    "name": "ipython",
    "version": 2
   },
   "file_extension": ".py",
   "mimetype": "text/x-python",
   "name": "python",
   "nbconvert_exporter": "python",
   "pygments_lexer": "ipython2",
   "version": "2.7.6"
  }
 },
 "nbformat": 4,
 "nbformat_minor": 0
}