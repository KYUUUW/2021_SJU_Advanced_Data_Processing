{
 "cells": [
  {
   "cell_type": "code",
   "execution_count": 2,
   "metadata": {
    "collapsed": true
   },
   "outputs": [],
   "source": [
    "from sklearn.model_selection import train_test_split\n",
    "from sklearn.naive_bayes import GaussianNB\n",
    "\n",
    "import pandas as pd\n",
    "import numpy as np"
   ]
  },
  {
   "cell_type": "code",
   "execution_count": 3,
   "outputs": [
    {
     "data": {
      "text/plain": "     Outlook Temperature Humidity    Wind PlayTennis\n0      Sunny         Hot     High    Weak         No\n1      Sunny         Hot     High  Strong         No\n2   Overcast         Hot     High    Weak        Yes\n3       Rain        Mild     High    Weak        Yes\n4       Rain        Cool   Normal    Weak        Yes\n5       Rain        Cool   Normal  Strong         No\n6   Overcast        Cool   Normal  Strong        Yes\n7      Sunny        Mild     High    Weak         No\n8      Sunny        Cool   Normal    Weak        Yes\n9       Rain        Mild   Normal    Weak        Yes\n10     Sunny        Mild   Normal  Strong        Yes\n11  Overcast        Mild     High  Strong        Yes\n12  Overcast         Hot   Normal    Weak        Yes\n13      Rain        Mild     High  Strong         No",
      "text/html": "<div>\n<style scoped>\n    .dataframe tbody tr th:only-of-type {\n        vertical-align: middle;\n    }\n\n    .dataframe tbody tr th {\n        vertical-align: top;\n    }\n\n    .dataframe thead th {\n        text-align: right;\n    }\n</style>\n<table border=\"1\" class=\"dataframe\">\n  <thead>\n    <tr style=\"text-align: right;\">\n      <th></th>\n      <th>Outlook</th>\n      <th>Temperature</th>\n      <th>Humidity</th>\n      <th>Wind</th>\n      <th>PlayTennis</th>\n    </tr>\n  </thead>\n  <tbody>\n    <tr>\n      <th>0</th>\n      <td>Sunny</td>\n      <td>Hot</td>\n      <td>High</td>\n      <td>Weak</td>\n      <td>No</td>\n    </tr>\n    <tr>\n      <th>1</th>\n      <td>Sunny</td>\n      <td>Hot</td>\n      <td>High</td>\n      <td>Strong</td>\n      <td>No</td>\n    </tr>\n    <tr>\n      <th>2</th>\n      <td>Overcast</td>\n      <td>Hot</td>\n      <td>High</td>\n      <td>Weak</td>\n      <td>Yes</td>\n    </tr>\n    <tr>\n      <th>3</th>\n      <td>Rain</td>\n      <td>Mild</td>\n      <td>High</td>\n      <td>Weak</td>\n      <td>Yes</td>\n    </tr>\n    <tr>\n      <th>4</th>\n      <td>Rain</td>\n      <td>Cool</td>\n      <td>Normal</td>\n      <td>Weak</td>\n      <td>Yes</td>\n    </tr>\n    <tr>\n      <th>5</th>\n      <td>Rain</td>\n      <td>Cool</td>\n      <td>Normal</td>\n      <td>Strong</td>\n      <td>No</td>\n    </tr>\n    <tr>\n      <th>6</th>\n      <td>Overcast</td>\n      <td>Cool</td>\n      <td>Normal</td>\n      <td>Strong</td>\n      <td>Yes</td>\n    </tr>\n    <tr>\n      <th>7</th>\n      <td>Sunny</td>\n      <td>Mild</td>\n      <td>High</td>\n      <td>Weak</td>\n      <td>No</td>\n    </tr>\n    <tr>\n      <th>8</th>\n      <td>Sunny</td>\n      <td>Cool</td>\n      <td>Normal</td>\n      <td>Weak</td>\n      <td>Yes</td>\n    </tr>\n    <tr>\n      <th>9</th>\n      <td>Rain</td>\n      <td>Mild</td>\n      <td>Normal</td>\n      <td>Weak</td>\n      <td>Yes</td>\n    </tr>\n    <tr>\n      <th>10</th>\n      <td>Sunny</td>\n      <td>Mild</td>\n      <td>Normal</td>\n      <td>Strong</td>\n      <td>Yes</td>\n    </tr>\n    <tr>\n      <th>11</th>\n      <td>Overcast</td>\n      <td>Mild</td>\n      <td>High</td>\n      <td>Strong</td>\n      <td>Yes</td>\n    </tr>\n    <tr>\n      <th>12</th>\n      <td>Overcast</td>\n      <td>Hot</td>\n      <td>Normal</td>\n      <td>Weak</td>\n      <td>Yes</td>\n    </tr>\n    <tr>\n      <th>13</th>\n      <td>Rain</td>\n      <td>Mild</td>\n      <td>High</td>\n      <td>Strong</td>\n      <td>No</td>\n    </tr>\n  </tbody>\n</table>\n</div>"
     },
     "execution_count": 3,
     "metadata": {},
     "output_type": "execute_result"
    }
   ],
   "source": [
    "tennis_data = pd.read_csv('../dataset/play_tennis.csv')\n",
    "tennis_data"
   ],
   "metadata": {
    "collapsed": false,
    "pycharm": {
     "name": "#%%\n"
    }
   }
  },
  {
   "cell_type": "code",
   "execution_count": 5,
   "outputs": [
    {
     "data": {
      "text/plain": "    Outlook  Temperature  Humidity  Wind  PlayTennis\n0         0            3         6     8          10\n1         0            3         6     9          10\n2         1            3         6     8          11\n3         2            4         6     8          11\n4         2            5         7     8          11\n5         2            5         7     9          10\n6         1            5         7     9          11\n7         0            4         6     8          10\n8         0            5         7     8          11\n9         2            4         7     8          11\n10        0            4         7     9          11\n11        1            4         6     9          11\n12        1            3         7     8          11\n13        2            4         6     9          10",
      "text/html": "<div>\n<style scoped>\n    .dataframe tbody tr th:only-of-type {\n        vertical-align: middle;\n    }\n\n    .dataframe tbody tr th {\n        vertical-align: top;\n    }\n\n    .dataframe thead th {\n        text-align: right;\n    }\n</style>\n<table border=\"1\" class=\"dataframe\">\n  <thead>\n    <tr style=\"text-align: right;\">\n      <th></th>\n      <th>Outlook</th>\n      <th>Temperature</th>\n      <th>Humidity</th>\n      <th>Wind</th>\n      <th>PlayTennis</th>\n    </tr>\n  </thead>\n  <tbody>\n    <tr>\n      <th>0</th>\n      <td>0</td>\n      <td>3</td>\n      <td>6</td>\n      <td>8</td>\n      <td>10</td>\n    </tr>\n    <tr>\n      <th>1</th>\n      <td>0</td>\n      <td>3</td>\n      <td>6</td>\n      <td>9</td>\n      <td>10</td>\n    </tr>\n    <tr>\n      <th>2</th>\n      <td>1</td>\n      <td>3</td>\n      <td>6</td>\n      <td>8</td>\n      <td>11</td>\n    </tr>\n    <tr>\n      <th>3</th>\n      <td>2</td>\n      <td>4</td>\n      <td>6</td>\n      <td>8</td>\n      <td>11</td>\n    </tr>\n    <tr>\n      <th>4</th>\n      <td>2</td>\n      <td>5</td>\n      <td>7</td>\n      <td>8</td>\n      <td>11</td>\n    </tr>\n    <tr>\n      <th>5</th>\n      <td>2</td>\n      <td>5</td>\n      <td>7</td>\n      <td>9</td>\n      <td>10</td>\n    </tr>\n    <tr>\n      <th>6</th>\n      <td>1</td>\n      <td>5</td>\n      <td>7</td>\n      <td>9</td>\n      <td>11</td>\n    </tr>\n    <tr>\n      <th>7</th>\n      <td>0</td>\n      <td>4</td>\n      <td>6</td>\n      <td>8</td>\n      <td>10</td>\n    </tr>\n    <tr>\n      <th>8</th>\n      <td>0</td>\n      <td>5</td>\n      <td>7</td>\n      <td>8</td>\n      <td>11</td>\n    </tr>\n    <tr>\n      <th>9</th>\n      <td>2</td>\n      <td>4</td>\n      <td>7</td>\n      <td>8</td>\n      <td>11</td>\n    </tr>\n    <tr>\n      <th>10</th>\n      <td>0</td>\n      <td>4</td>\n      <td>7</td>\n      <td>9</td>\n      <td>11</td>\n    </tr>\n    <tr>\n      <th>11</th>\n      <td>1</td>\n      <td>4</td>\n      <td>6</td>\n      <td>9</td>\n      <td>11</td>\n    </tr>\n    <tr>\n      <th>12</th>\n      <td>1</td>\n      <td>3</td>\n      <td>7</td>\n      <td>8</td>\n      <td>11</td>\n    </tr>\n    <tr>\n      <th>13</th>\n      <td>2</td>\n      <td>4</td>\n      <td>6</td>\n      <td>9</td>\n      <td>10</td>\n    </tr>\n  </tbody>\n</table>\n</div>"
     },
     "execution_count": 5,
     "metadata": {},
     "output_type": "execute_result"
    }
   ],
   "source": [
    "# 데이터 전처리\n",
    "\n",
    "tennis_data.Outlook = tennis_data.Outlook.replace('Sunny', 0)\n",
    "tennis_data.Outlook = tennis_data.Outlook.replace('Overcast', 1)\n",
    "tennis_data.Outlook = tennis_data.Outlook.replace('Rain', 2)\n",
    "tennis_data.Temperature = tennis_data.Temperature.replace('Hot', 3)\n",
    "tennis_data.Temperature = tennis_data.Temperature.replace('Mild', 4)\n",
    "tennis_data.Temperature = tennis_data.Temperature.replace('Cool', 5)\n",
    "tennis_data.Humidity = tennis_data.Humidity.replace('High', 6)\n",
    "tennis_data.Humidity = tennis_data.Humidity.replace('Normal', 7)\n",
    "tennis_data.Wind = tennis_data.Wind.replace('Weak', 8)\n",
    "tennis_data.Wind = tennis_data.Wind.replace('Strong', 9)\n",
    "tennis_data.PlayTennis = tennis_data.PlayTennis.replace('No', 10)\n",
    "tennis_data.PlayTennis = tennis_data.PlayTennis.replace('Yes', 11)\n",
    "tennis_data"
   ],
   "metadata": {
    "collapsed": false,
    "pycharm": {
     "name": "#%%\n"
    }
   }
  },
  {
   "cell_type": "code",
   "execution_count": 7,
   "outputs": [],
   "source": [
    "# 속성(X)과 클래스(y) 분리\n",
    "\n",
    "X = np.array(pd.DataFrame(tennis_data, columns = ['Outlook', 'Temperature',\n",
    "'Humidity', 'Wind']))\n",
    "y = np.array(pd.DataFrame(tennis_data, columns = ['PlayTennis']))"
   ],
   "metadata": {
    "collapsed": false,
    "pycharm": {
     "name": "#%%\n"
    }
   }
  },
  {
   "cell_type": "code",
   "execution_count": 8,
   "outputs": [],
   "source": [
    "# 훈련 데이터 및 테스트 데이터 분리\n",
    "\n",
    "X_train, X_test, y_train, y_test = train_test_split(X, y)"
   ],
   "metadata": {
    "collapsed": false,
    "pycharm": {
     "name": "#%%\n"
    }
   }
  },
  {
   "cell_type": "code",
   "execution_count": 10,
   "outputs": [
    {
     "name": "stderr",
     "output_type": "stream",
     "text": [
      "C:\\tools\\Anaconda3\\lib\\site-packages\\sklearn\\utils\\validation.py:63: DataConversionWarning: A column-vector y was passed when a 1d array was expected. Please change the shape of y to (n_samples, ), for example using ravel().\n",
      "  return f(*args, **kwargs)\n"
     ]
    }
   ],
   "source": [
    "#gnb_clf 에 가우시안 나이브 베이즈 모델 저장\n",
    "#gnb_clf 에 훈련 데이터 기반의 가우시안 나이브 베이즈 학습 모델 생성 후, 저장\n",
    "\n",
    "gnb_clf = GaussianNB()\n",
    "gnb_clf = gnb_clf.fit(X_train, y_train)"
   ],
   "metadata": {
    "collapsed": false,
    "pycharm": {
     "name": "#%%\n"
    }
   }
  },
  {
   "cell_type": "code",
   "execution_count": 11,
   "outputs": [],
   "source": [
    "# 생성된 학습 모델에 테스트 데이터 입력\n",
    "# 학습 모델을 통해 데스트 데이터 예측 결과 저장\n",
    "\n",
    "gnb_prediction = gnb_clf.predict(X_test)"
   ],
   "metadata": {
    "collapsed": false,
    "pycharm": {
     "name": "#%%\n"
    }
   }
  },
  {
   "cell_type": "code",
   "execution_count": 12,
   "outputs": [
    {
     "name": "stdout",
     "output_type": "stream",
     "text": [
      "[11 10 10 10]\n"
     ]
    }
   ],
   "source": [
    "# 예측 결과 출력\n",
    "# y_test = [[11], [10], [11], [10]] = [yes, no, yes, no]\n",
    "# 예측결과 = [11, 11, 11, 10] = [yes, yes, yes, no]\n",
    "# 결과적으로 두 번째 틀렸음\n",
    "\n",
    "print(gnb_prediction)"
   ],
   "metadata": {
    "collapsed": false,
    "pycharm": {
     "name": "#%%\n"
    }
   }
  },
  {
   "cell_type": "code",
   "execution_count": 13,
   "outputs": [
    {
     "name": "stdout",
     "output_type": "stream",
     "text": [
      "Confusion Matrix\n",
      "[[1 0]\n",
      " [2 1]]\n"
     ]
    }
   ],
   "source": [
    "# 나이브 베이즈 분류 모델 성능 측정\n",
    "\n",
    "from sklearn.metrics import confusion_matrix\n",
    "from sklearn.metrics import classification_report\n",
    "from sklearn.metrics import f1_score\n",
    "from sklearn.metrics import accuracy_score\n",
    "\n",
    "# 실제값과 예측값 간 confusion matrix\n",
    "# 결과적으로 1 개 틀렸음. 위 [1 1]이 [2 0]이 되어야 함\n",
    "print('Confusion Matrix')\n",
    "print(confusion_matrix(y_test, gnb_prediction))"
   ],
   "metadata": {
    "collapsed": false,
    "pycharm": {
     "name": "#%%\n"
    }
   }
  },
  {
   "cell_type": "code",
   "execution_count": 14,
   "outputs": [
    {
     "name": "stdout",
     "output_type": "stream",
     "text": [
      "Classification Report\n",
      "              precision    recall  f1-score   support\n",
      "\n",
      "          10       0.33      1.00      0.50         1\n",
      "          11       1.00      0.33      0.50         3\n",
      "\n",
      "    accuracy                           0.50         4\n",
      "   macro avg       0.67      0.67      0.50         4\n",
      "weighted avg       0.83      0.50      0.50         4\n",
      "\n"
     ]
    }
   ],
   "source": [
    "#분류 레포트 출력\n",
    "print('Classification Report')\n",
    "print(classification_report(y_test, gnb_prediction))"
   ],
   "metadata": {
    "collapsed": false,
    "pycharm": {
     "name": "#%%\n"
    }
   }
  },
  {
   "cell_type": "code",
   "execution_count": 15,
   "outputs": [],
   "source": [
    "fmeasure = round(f1_score(y_test, gnb_prediction, average = 'weighted'), 2)\n",
    "accuracy = round(accuracy_score(y_test, gnb_prediction, normalize = True), 2)"
   ],
   "metadata": {
    "collapsed": false,
    "pycharm": {
     "name": "#%%\n"
    }
   }
  },
  {
   "cell_type": "code",
   "execution_count": 16,
   "outputs": [
    {
     "data": {
      "text/plain": "    Classifier  F-Measure  Accuracy\n0  Naive Bayes        0.5       0.5",
      "text/html": "<div>\n<style scoped>\n    .dataframe tbody tr th:only-of-type {\n        vertical-align: middle;\n    }\n\n    .dataframe tbody tr th {\n        vertical-align: top;\n    }\n\n    .dataframe thead th {\n        text-align: right;\n    }\n</style>\n<table border=\"1\" class=\"dataframe\">\n  <thead>\n    <tr style=\"text-align: right;\">\n      <th></th>\n      <th>Classifier</th>\n      <th>F-Measure</th>\n      <th>Accuracy</th>\n    </tr>\n  </thead>\n  <tbody>\n    <tr>\n      <th>0</th>\n      <td>Naive Bayes</td>\n      <td>0.5</td>\n      <td>0.5</td>\n    </tr>\n  </tbody>\n</table>\n</div>"
     },
     "execution_count": 16,
     "metadata": {},
     "output_type": "execute_result"
    }
   ],
   "source": [
    "df_nbclf = pd.DataFrame(columns=['Classifier', 'F-Measure', 'Accuracy'])\n",
    "df_nbclf.loc[len(df_nbclf)] = ['Naive Bayes', fmeasure, accuracy]\n",
    "df_nbclf"
   ],
   "metadata": {
    "collapsed": false,
    "pycharm": {
     "name": "#%%\n"
    }
   }
  },
  {
   "cell_type": "code",
   "execution_count": null,
   "outputs": [],
   "source": [],
   "metadata": {
    "collapsed": false,
    "pycharm": {
     "name": "#%%\n"
    }
   }
  }
 ],
 "metadata": {
  "kernelspec": {
   "display_name": "Python 3",
   "language": "python",
   "name": "python3"
  },
  "language_info": {
   "codemirror_mode": {
    "name": "ipython",
    "version": 2
   },
   "file_extension": ".py",
   "mimetype": "text/x-python",
   "name": "python",
   "nbconvert_exporter": "python",
   "pygments_lexer": "ipython2",
   "version": "2.7.6"
  }
 },
 "nbformat": 4,
 "nbformat_minor": 0
}